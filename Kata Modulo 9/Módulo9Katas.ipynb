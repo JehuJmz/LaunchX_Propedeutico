{
  "cells": [
    {
      "cell_type": "markdown",
      "metadata": {},
      "source": [
        "## Ejercicio 1"
      ]
    },
    {
      "cell_type": "code",
      "execution_count": 22,
      "metadata": {},
      "outputs": [],
      "source": [
        "# Función para leer 3 tanques de combustible y muestre el promedio\n",
        "\n",
        "def generar_reporte(tanque_principal, tanque_externo, tanque_hidrogeno):\n",
        "    total_promedio = (tanque_principal + tanque_externo + tanque_hidrogeno) / 3\n",
        "    return f\"\"\"Reporte Combusitble:\n",
        "    Total promedio: {total_promedio}%\n",
        "    Tanque principal: {tanque_principal}%\n",
        "    Tanque externo: {tanque_externo}%\n",
        "    Tanque hidrogeno: {tanque_hidrogeno}% \n",
        "    \"\"\"\n"
      ]
    },
    {
      "cell_type": "code",
      "execution_count": 23,
      "metadata": {},
      "outputs": [
        {
          "name": "stdout",
          "output_type": "stream",
          "text": [
            "Reporte Combusitble:\n",
            "    Total promedio: 78.33333333333333%\n",
            "    Tanque principal: 80%\n",
            "    Tanque externo: 70%\n",
            "    Tanque hidrogeno: 85% \n",
            "    \n"
          ]
        }
      ],
      "source": [
        "# Llamamos a la función que genera el reporte print(funcion(tanque1, tanque2, tanque3))\n",
        "print(generar_reporte(80, 70, 85))"
      ]
    },
    {
      "cell_type": "code",
      "execution_count": 24,
      "metadata": {},
      "outputs": [
        {
          "data": {
            "text/plain": [
              "82.0"
            ]
          },
          "execution_count": 24,
          "metadata": {},
          "output_type": "execute_result"
        }
      ],
      "source": [
        "# Función promedio \n",
        "def promedio(values):\n",
        "    total = sum(values)\n",
        "    number_of_items = len(values)\n",
        "    return total / number_of_items\n",
        "\n",
        "# Test the averaging function with a list of integers:\n",
        "promedio([80, 85, 81]) "
      ]
    },
    {
      "cell_type": "code",
      "execution_count": 25,
      "metadata": {},
      "outputs": [
        {
          "name": "stdout",
          "output_type": "stream",
          "text": [
            "Reporte Combustible:\n",
            "    Total promedio: 78.0%\n",
            "    Tanque principal: 88%\n",
            "    Tanque externo: 76%\n",
            "    Tanque hidrogeno: 70% \n",
            "    \n"
          ]
        }
      ],
      "source": [
        "# Actualiza la función\n",
        " \n",
        "def generar_reporte(tanque_principal, tanque_externo, tanque_hidrogeno):\n",
        "      return f\"\"\"Reporte Combustible:\n",
        "    Total promedio: {promedio([tanque_principal, tanque_externo, tanque_hidrogeno])}%\n",
        "    Tanque principal: {tanque_principal}%\n",
        "    Tanque externo: {tanque_externo}%\n",
        "    Tanque hidrogeno: {tanque_hidrogeno}% \n",
        "    \"\"\"\n",
        "\n",
        "\n",
        "# Call the updated function again with different values\n",
        "print(generar_reporte(88, 76, 70))"
      ]
    },
    {
      "cell_type": "markdown",
      "metadata": {},
      "source": [
        "### Ejercicio 2:"
      ]
    },
    {
      "cell_type": "code",
      "execution_count": 26,
      "metadata": {},
      "outputs": [
        {
          "name": "stdout",
          "output_type": "stream",
          "text": [
            "\n",
            "    Mision: Operacion Yavin 4\n",
            "    Tiempo total de viaje: 65 minutos\n",
            "    Combustible total: 500000 galones\n",
            "    \n"
          ]
        }
      ],
      "source": [
        "# Función con un informe preciso de la misión. Considera hora de prelanzamiento, tiempo de vuelo, destino, tanque externo y tanque interno\n",
        "\n",
        "def reporte_mision(hora_prelanzamiento, tiempo_vuelo, destino, tanque_externo, tanque_principal):\n",
        "    return f\"\"\"\n",
        "    Mision: Operacion {destino}\n",
        "    Tiempo total de viaje: {hora_prelanzamiento + tiempo_vuelo} minutos\n",
        "    Combustible total: {tanque_externo + tanque_principal} galones\n",
        "    \"\"\"\n",
        "\n",
        "print(reporte_mision(14, 51, \"Yavin 4\", 200000, 300000))"
      ]
    },
    {
      "cell_type": "code",
      "execution_count": 27,
      "metadata": {},
      "outputs": [
        {
          "name": "stdout",
          "output_type": "stream",
          "text": [
            "\n",
            "    Mission: Operacion Naboo\n",
            "    Tiempo total de viaje: 76 minutos\n",
            "    Total combustible restantet: 500000\n",
            "    \n"
          ]
        }
      ],
      "source": [
        "# Escribe tu nueva función de reporte considerando lo anterior\n",
        "\n",
        "def reporte_mision(destino, *minutos, **reserva_combustible):\n",
        "    return f\"\"\"\n",
        "    Mission: Operacion {destino}\n",
        "    Tiempo total de viaje: {sum(minutos)} minutos\n",
        "    Total combustible restantet: {sum(reserva_combustible.values())}\n",
        "    \"\"\"\n",
        "\n",
        "print(reporte_mision(\"Naboo\", 10, 15, 51, main=300000, external=200000))"
      ]
    },
    {
      "cell_type": "code",
      "execution_count": 28,
      "metadata": {},
      "outputs": [
        {
          "name": "stdout",
          "output_type": "stream",
          "text": [
            "\n",
            "    Mission: Operacion Tatooine\n",
            "    Tiempo total de viaje: 74 minutes\n",
            "    Total combustible restante: 500000\n",
            "     principal tanque --> 300000 galones restantes\n",
            " externo tanque --> 200000 galones restantes\n",
            "\n"
          ]
        }
      ],
      "source": [
        "# Escribe tu nueva función\n",
        "\n",
        "def reporte_mision(destino, *minutos, **reserva_combustible):\n",
        "    main_report = f\"\"\"\n",
        "    Mission: Operacion {destino}\n",
        "    Tiempo total de viaje: {sum(minutos)} minutes\n",
        "    Total combustible restante: {sum(reserva_combustible.values())}\n",
        "    \"\"\"\n",
        "    for nombre_tanque, galones in reserva_combustible.items():\n",
        "        main_report += f\" {nombre_tanque} tanque --> {galones} galones restantes\\n\"\n",
        "    return main_report\n",
        "\n",
        "print(reporte_mision(\"Tatooine\", 8, 11, 55, principal=300000, externo=200000))"
      ]
    }
  ],
  "metadata": {
    "interpreter": {
      "hash": "205095b8b86ea82a021a8fc2ffba2b3bc9f8d0be25999901963b225939f75778"
    },
    "kernelspec": {
      "display_name": "Python 3.8.10 64-bit ('tmp': conda)",
      "name": "python3"
    },
    "language_info": {
      "codemirror_mode": {
        "name": "ipython",
        "version": 3
      },
      "file_extension": ".py",
      "mimetype": "text/x-python",
      "name": "python",
      "nbconvert_exporter": "python",
      "pygments_lexer": "ipython3",
      "version": "3.8.10"
    },
    "nteract": {
      "version": "nteract-front-end@1.0.0"
    },
    "orig_nbformat": 4
  },
  "nbformat": 4,
  "nbformat_minor": 2
}
